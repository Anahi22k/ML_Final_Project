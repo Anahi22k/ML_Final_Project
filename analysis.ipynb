{
 "cells": [
  {
   "cell_type": "code",
   "execution_count": 11,
   "id": "155040b7",
   "metadata": {},
   "outputs": [],
   "source": [
    "import pandas as pd\n",
    "\n",
    "original = pd.read_csv('data.csv')\n",
    "\n",
    "df = pd.read_csv('data.csv')\n",
    "\n"
   ]
  },
  {
   "cell_type": "code",
   "execution_count": 12,
   "id": "5bb62b52",
   "metadata": {},
   "outputs": [
    {
     "name": "stdout",
     "output_type": "stream",
     "text": [
      "Number of 'Unknown' smoking_status: 1544\n",
      "\n",
      "id                     0\n",
      "gender                 0\n",
      "age                    0\n",
      "hypertension           0\n",
      "heart_disease          0\n",
      "ever_married           0\n",
      "work_type              0\n",
      "Residence_type         0\n",
      "avg_glucose_level      0\n",
      "bmi                  201\n",
      "smoking_status         0\n",
      "stroke                 0\n",
      "dtype: int64\n"
     ]
    }
   ],
   "source": [
    "unknown_smokers = (original['smoking_status'] == 'Unknown').sum()\n",
    "\n",
    "# Smoking status as unknown is still useful for analysis - who is not willing to disclose?\n",
    "print(f\"Number of 'Unknown' smoking_status: {unknown_smokers}\\n\")\n",
    "\n",
    "print(original.isna().sum())\n",
    "\n",
    "\n",
    "# Clean the Data\n",
    "df['bmi'] = df['bmi'].fillna(df['bmi'].median()) #median is better than mean for skewed data like BMI"
   ]
  },
  {
   "cell_type": "code",
   "execution_count": null,
   "id": "6f36b2ca",
   "metadata": {},
   "outputs": [],
   "source": [
    "# Preprocessing\n",
    "\n",
    "#Drop the ID Category\n",
    "df.drop('id', axis=1, inplace=True)\n",
    "\n",
    "# Male = 0, Female = 1 (Binary encoding)\n",
    "df['gender'] = df['gender'].map({'Male': 0, 'Female': 1})\n",
    "\n",
    "# Married yes = 1, Married NO = 0\n",
    "df['ever_married'] = df['ever_married'].map({'Yes': 1, 'No': 0})\n",
    "\n",
    "# Work Type: Private = 0, Self-employed = 1, Gov. Job = 2, Children = 3, Never Worked = 4\n",
    "work_types = {\n",
    "    'Private': 0,\n",
    "    'Self-employed': 1,\n",
    "    'Govt_job': 2,\n",
    "    'children': 3,\n",
    "    'Never_worked': 4\n",
    "}\n",
    "df['work_type'] = df['work_type'].map(work_types)\n",
    "\n",
    "\n",
    "# Residence Type: Urban = 1, Rural = 0\n",
    "df['Residence_type'] = df['Residence_type'].map({'Urban': 1, 'Rural': 0})\n",
    "\n",
    "# Smoking_status \n",
    "df['smoking_status'] = df['smoking_status'].map({\n",
    "    'formerly smoked': 0,\n",
    "    'never smoked': 1,\n",
    "    'smokes': 2,\n",
    "    'Unknown': 3\n",
    "})"
   ]
  },
  {
   "cell_type": "code",
   "execution_count": 14,
   "id": "0f3cf13c",
   "metadata": {},
   "outputs": [
    {
     "name": "stdout",
     "output_type": "stream",
     "text": [
      "      gender   age  hypertension  heart_disease  ever_married  work_type  \\\n",
      "0        0.0  67.0             0              1             1          0   \n",
      "1        1.0  61.0             0              0             1          1   \n",
      "2        0.0  80.0             0              1             1          0   \n",
      "3        1.0  49.0             0              0             1          0   \n",
      "4        1.0  79.0             1              0             1          1   \n",
      "...      ...   ...           ...            ...           ...        ...   \n",
      "5105     1.0  80.0             1              0             1          0   \n",
      "5106     1.0  81.0             0              0             1          1   \n",
      "5107     1.0  35.0             0              0             1          1   \n",
      "5108     0.0  51.0             0              0             1          0   \n",
      "5109     1.0  44.0             0              0             1          2   \n",
      "\n",
      "      Residence_type  avg_glucose_level   bmi  smoking_status  stroke  \n",
      "0                  1             228.69  36.6               0       1  \n",
      "1                  0             202.21  28.1               1       1  \n",
      "2                  0             105.92  32.5               1       1  \n",
      "3                  1             171.23  34.4               2       1  \n",
      "4                  0             174.12  24.0               1       1  \n",
      "...              ...                ...   ...             ...     ...  \n",
      "5105               1              83.75  28.1               1       0  \n",
      "5106               1             125.20  40.0               1       0  \n",
      "5107               0              82.99  30.6               1       0  \n",
      "5108               0             166.29  25.6               0       0  \n",
      "5109               1              85.28  26.2               3       0  \n",
      "\n",
      "[5110 rows x 11 columns]\n"
     ]
    }
   ],
   "source": [
    "print(df)"
   ]
  }
 ],
 "metadata": {
  "kernelspec": {
   "display_name": "Python 3",
   "language": "python",
   "name": "python3"
  },
  "language_info": {
   "codemirror_mode": {
    "name": "ipython",
    "version": 3
   },
   "file_extension": ".py",
   "mimetype": "text/x-python",
   "name": "python",
   "nbconvert_exporter": "python",
   "pygments_lexer": "ipython3",
   "version": "3.10.9"
  }
 },
 "nbformat": 4,
 "nbformat_minor": 5
}
